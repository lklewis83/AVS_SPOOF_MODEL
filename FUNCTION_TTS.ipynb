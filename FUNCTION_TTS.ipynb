{
  "cells": [
    {
      "cell_type": "code",
      "source": [
        "#!pip install gtts"
      ],
      "metadata": {
        "id": "nr9HIBvq8Bg9"
      },
      "id": "nr9HIBvq8Bg9",
      "execution_count": 1,
      "outputs": []
    },
    {
      "cell_type": "code",
      "execution_count": 2,
      "id": "6c4b03ea-38ee-4dec-b7ce-e234027d7714",
      "metadata": {
        "id": "6c4b03ea-38ee-4dec-b7ce-e234027d7714"
      },
      "outputs": [],
      "source": [
        "import os\n",
        "import soundfile as sf  # To handle FLAC properly\n",
        "import keras\n",
        "from tensorflow.keras.models import load_model\n",
        "import tensorflow as tf\n",
        "\n",
        "import librosa\n",
        "import numpy as np\n",
        "import pandas as pd\n",
        "\n",
        "from gtts import gTTS\n",
        "from IPython.display import Audio\n",
        "\n",
        "from google.colab import drive"
      ]
    },
    {
      "cell_type": "code",
      "source": [
        "drive.mount('/content/drive')\n",
        "#!ls /content/drive/MyDrive"
      ],
      "metadata": {
        "colab": {
          "base_uri": "https://localhost:8080/"
        },
        "id": "mAj0F1Tzoepj",
        "outputId": "518a4c18-984d-4106-d54b-86172380129e"
      },
      "id": "mAj0F1Tzoepj",
      "execution_count": 3,
      "outputs": [
        {
          "output_type": "stream",
          "name": "stdout",
          "text": [
            "Drive already mounted at /content/drive; to attempt to forcibly remount, call drive.mount(\"/content/drive\", force_remount=True).\n"
          ]
        }
      ]
    },
    {
      "cell_type": "code",
      "execution_count": 4,
      "id": "43e31c90-057f-4a0c-b0a3-be04b470333c",
      "metadata": {
        "colab": {
          "base_uri": "https://localhost:8080/",
          "height": 334
        },
        "id": "43e31c90-057f-4a0c-b0a3-be04b470333c",
        "outputId": "75af85c2-b60a-4009-a17c-d55db5ee4fe9"
      },
      "outputs": [
        {
          "output_type": "display_data",
          "data": {
            "text/plain": [
              "\u001b[1mModel: \"sequential_3\"\u001b[0m\n"
            ],
            "text/html": [
              "<pre style=\"white-space:pre;overflow-x:auto;line-height:normal;font-family:Menlo,'DejaVu Sans Mono',consolas,'Courier New',monospace\"><span style=\"font-weight: bold\">Model: \"sequential_3\"</span>\n",
              "</pre>\n"
            ]
          },
          "metadata": {}
        },
        {
          "output_type": "display_data",
          "data": {
            "text/plain": [
              "┏━━━━━━━━━━━━━━━━━━━━━━━━━━━━━━━━━━━━━━┳━━━━━━━━━━━━━━━━━━━━━━━━━━━━━┳━━━━━━━━━━━━━━━━━┓\n",
              "┃\u001b[1m \u001b[0m\u001b[1mLayer (type)                        \u001b[0m\u001b[1m \u001b[0m┃\u001b[1m \u001b[0m\u001b[1mOutput Shape               \u001b[0m\u001b[1m \u001b[0m┃\u001b[1m \u001b[0m\u001b[1m        Param #\u001b[0m\u001b[1m \u001b[0m┃\n",
              "┡━━━━━━━━━━━━━━━━━━━━━━━━━━━━━━━━━━━━━━╇━━━━━━━━━━━━━━━━━━━━━━━━━━━━━╇━━━━━━━━━━━━━━━━━┩\n",
              "│ dense_12 (\u001b[38;5;33mDense\u001b[0m)                     │ (\u001b[38;5;45mNone\u001b[0m, \u001b[38;5;34m200\u001b[0m)                 │          \u001b[38;5;34m25,800\u001b[0m │\n",
              "├──────────────────────────────────────┼─────────────────────────────┼─────────────────┤\n",
              "│ dropout_6 (\u001b[38;5;33mDropout\u001b[0m)                  │ (\u001b[38;5;45mNone\u001b[0m, \u001b[38;5;34m200\u001b[0m)                 │               \u001b[38;5;34m0\u001b[0m │\n",
              "├──────────────────────────────────────┼─────────────────────────────┼─────────────────┤\n",
              "│ dense_13 (\u001b[38;5;33mDense\u001b[0m)                     │ (\u001b[38;5;45mNone\u001b[0m, \u001b[38;5;34m128\u001b[0m)                 │          \u001b[38;5;34m25,728\u001b[0m │\n",
              "├──────────────────────────────────────┼─────────────────────────────┼─────────────────┤\n",
              "│ dropout_7 (\u001b[38;5;33mDropout\u001b[0m)                  │ (\u001b[38;5;45mNone\u001b[0m, \u001b[38;5;34m128\u001b[0m)                 │               \u001b[38;5;34m0\u001b[0m │\n",
              "├──────────────────────────────────────┼─────────────────────────────┼─────────────────┤\n",
              "│ dense_14 (\u001b[38;5;33mDense\u001b[0m)                     │ (\u001b[38;5;45mNone\u001b[0m, \u001b[38;5;34m64\u001b[0m)                  │           \u001b[38;5;34m8,256\u001b[0m │\n",
              "├──────────────────────────────────────┼─────────────────────────────┼─────────────────┤\n",
              "│ dense_15 (\u001b[38;5;33mDense\u001b[0m)                     │ (\u001b[38;5;45mNone\u001b[0m, \u001b[38;5;34m1\u001b[0m)                   │              \u001b[38;5;34m65\u001b[0m │\n",
              "└──────────────────────────────────────┴─────────────────────────────┴─────────────────┘\n"
            ],
            "text/html": [
              "<pre style=\"white-space:pre;overflow-x:auto;line-height:normal;font-family:Menlo,'DejaVu Sans Mono',consolas,'Courier New',monospace\">┏━━━━━━━━━━━━━━━━━━━━━━━━━━━━━━━━━━━━━━┳━━━━━━━━━━━━━━━━━━━━━━━━━━━━━┳━━━━━━━━━━━━━━━━━┓\n",
              "┃<span style=\"font-weight: bold\"> Layer (type)                         </span>┃<span style=\"font-weight: bold\"> Output Shape                </span>┃<span style=\"font-weight: bold\">         Param # </span>┃\n",
              "┡━━━━━━━━━━━━━━━━━━━━━━━━━━━━━━━━━━━━━━╇━━━━━━━━━━━━━━━━━━━━━━━━━━━━━╇━━━━━━━━━━━━━━━━━┩\n",
              "│ dense_12 (<span style=\"color: #0087ff; text-decoration-color: #0087ff\">Dense</span>)                     │ (<span style=\"color: #00d7ff; text-decoration-color: #00d7ff\">None</span>, <span style=\"color: #00af00; text-decoration-color: #00af00\">200</span>)                 │          <span style=\"color: #00af00; text-decoration-color: #00af00\">25,800</span> │\n",
              "├──────────────────────────────────────┼─────────────────────────────┼─────────────────┤\n",
              "│ dropout_6 (<span style=\"color: #0087ff; text-decoration-color: #0087ff\">Dropout</span>)                  │ (<span style=\"color: #00d7ff; text-decoration-color: #00d7ff\">None</span>, <span style=\"color: #00af00; text-decoration-color: #00af00\">200</span>)                 │               <span style=\"color: #00af00; text-decoration-color: #00af00\">0</span> │\n",
              "├──────────────────────────────────────┼─────────────────────────────┼─────────────────┤\n",
              "│ dense_13 (<span style=\"color: #0087ff; text-decoration-color: #0087ff\">Dense</span>)                     │ (<span style=\"color: #00d7ff; text-decoration-color: #00d7ff\">None</span>, <span style=\"color: #00af00; text-decoration-color: #00af00\">128</span>)                 │          <span style=\"color: #00af00; text-decoration-color: #00af00\">25,728</span> │\n",
              "├──────────────────────────────────────┼─────────────────────────────┼─────────────────┤\n",
              "│ dropout_7 (<span style=\"color: #0087ff; text-decoration-color: #0087ff\">Dropout</span>)                  │ (<span style=\"color: #00d7ff; text-decoration-color: #00d7ff\">None</span>, <span style=\"color: #00af00; text-decoration-color: #00af00\">128</span>)                 │               <span style=\"color: #00af00; text-decoration-color: #00af00\">0</span> │\n",
              "├──────────────────────────────────────┼─────────────────────────────┼─────────────────┤\n",
              "│ dense_14 (<span style=\"color: #0087ff; text-decoration-color: #0087ff\">Dense</span>)                     │ (<span style=\"color: #00d7ff; text-decoration-color: #00d7ff\">None</span>, <span style=\"color: #00af00; text-decoration-color: #00af00\">64</span>)                  │           <span style=\"color: #00af00; text-decoration-color: #00af00\">8,256</span> │\n",
              "├──────────────────────────────────────┼─────────────────────────────┼─────────────────┤\n",
              "│ dense_15 (<span style=\"color: #0087ff; text-decoration-color: #0087ff\">Dense</span>)                     │ (<span style=\"color: #00d7ff; text-decoration-color: #00d7ff\">None</span>, <span style=\"color: #00af00; text-decoration-color: #00af00\">1</span>)                   │              <span style=\"color: #00af00; text-decoration-color: #00af00\">65</span> │\n",
              "└──────────────────────────────────────┴─────────────────────────────┴─────────────────┘\n",
              "</pre>\n"
            ]
          },
          "metadata": {}
        },
        {
          "output_type": "display_data",
          "data": {
            "text/plain": [
              "\u001b[1m Total params: \u001b[0m\u001b[38;5;34m179,549\u001b[0m (701.37 KB)\n"
            ],
            "text/html": [
              "<pre style=\"white-space:pre;overflow-x:auto;line-height:normal;font-family:Menlo,'DejaVu Sans Mono',consolas,'Courier New',monospace\"><span style=\"font-weight: bold\"> Total params: </span><span style=\"color: #00af00; text-decoration-color: #00af00\">179,549</span> (701.37 KB)\n",
              "</pre>\n"
            ]
          },
          "metadata": {}
        },
        {
          "output_type": "display_data",
          "data": {
            "text/plain": [
              "\u001b[1m Trainable params: \u001b[0m\u001b[38;5;34m59,849\u001b[0m (233.79 KB)\n"
            ],
            "text/html": [
              "<pre style=\"white-space:pre;overflow-x:auto;line-height:normal;font-family:Menlo,'DejaVu Sans Mono',consolas,'Courier New',monospace\"><span style=\"font-weight: bold\"> Trainable params: </span><span style=\"color: #00af00; text-decoration-color: #00af00\">59,849</span> (233.79 KB)\n",
              "</pre>\n"
            ]
          },
          "metadata": {}
        },
        {
          "output_type": "display_data",
          "data": {
            "text/plain": [
              "\u001b[1m Non-trainable params: \u001b[0m\u001b[38;5;34m0\u001b[0m (0.00 B)\n"
            ],
            "text/html": [
              "<pre style=\"white-space:pre;overflow-x:auto;line-height:normal;font-family:Menlo,'DejaVu Sans Mono',consolas,'Courier New',monospace\"><span style=\"font-weight: bold\"> Non-trainable params: </span><span style=\"color: #00af00; text-decoration-color: #00af00\">0</span> (0.00 B)\n",
              "</pre>\n"
            ]
          },
          "metadata": {}
        },
        {
          "output_type": "display_data",
          "data": {
            "text/plain": [
              "\u001b[1m Optimizer params: \u001b[0m\u001b[38;5;34m119,700\u001b[0m (467.58 KB)\n"
            ],
            "text/html": [
              "<pre style=\"white-space:pre;overflow-x:auto;line-height:normal;font-family:Menlo,'DejaVu Sans Mono',consolas,'Courier New',monospace\"><span style=\"font-weight: bold\"> Optimizer params: </span><span style=\"color: #00af00; text-decoration-color: #00af00\">119,700</span> (467.58 KB)\n",
              "</pre>\n"
            ]
          },
          "metadata": {}
        }
      ],
      "source": [
        "model = keras.models.load_model('/content/drive/MyDrive/audio_spoofing_model.keras')\n",
        "\n",
        "model.summary()"
      ]
    },
    {
      "cell_type": "code",
      "execution_count": 5,
      "id": "60ee4847-4d18-40c3-98a5-68c68792602e",
      "metadata": {
        "id": "60ee4847-4d18-40c3-98a5-68c68792602e"
      },
      "outputs": [],
      "source": [
        "# SHOULD HAVE A REUSABLE FUNCTION FOR THIS ALREADY\n",
        "def audio_mfcc(file_path, n_mfcc=128):\n",
        "    y, sr = librosa.load(file_path, sr=None)\n",
        "    mfcc = librosa.feature.mfcc(y=y, sr=sr, n_mfcc=n_mfcc)\n",
        "    #print(mfcc.shape)\n",
        "    return np.mean(mfcc.T, axis=0)  # Mean aggregation over time"
      ]
    },
    {
      "cell_type": "code",
      "source": [
        "def gtts(text, lang='en'):\n",
        "    filename = \"/content/drive/MyDrive/output.mp3\"\n",
        "    tts = gTTS(text=text, lang=lang, slow=False)\n",
        "    tts.save(filename)\n",
        "\n",
        "    # Ensure the file exists before playing\n",
        "    if os.path.exists(filename):\n",
        "        print(f\"File saved: {os.path.abspath(filename)}\")\n",
        "        return Audio(filename, autoplay=True)  # Plays audio inline in Colab\n",
        "    else:\n",
        "        print(\"Error: File was not saved properly.\")"
      ],
      "metadata": {
        "id": "1oWj9_2l7keH"
      },
      "id": "1oWj9_2l7keH",
      "execution_count": 6,
      "outputs": []
    },
    {
      "cell_type": "code",
      "execution_count": 7,
      "id": "97c37c63-e9e5-4fd0-8ed8-11d8a4da4863",
      "metadata": {
        "id": "97c37c63-e9e5-4fd0-8ed8-11d8a4da4863"
      },
      "outputs": [],
      "source": [
        "def predict_audio_label(model, X):\n",
        "    \"\"\"\n",
        "    Predicts whether an audio sample is 'Bonafide' or 'Spoofed' using a trained model.\n",
        "\n",
        "    Parameters:\n",
        "        model: Trained machine learning model (supports predict or predict_proba).\n",
        "        X: MFCC Preprocessed feature array of shape (1, 128).\n",
        "            - USE 'X = X_train.reshape(1,-1)' TO CHANGE MFCC RESULT SHAPE\n",
        "\n",
        "    Returns:\n",
        "        predicted_label (str): \"Bonafide\" or \"Spoofed\".\n",
        "        confidence_score (float): Probability confidence score of the prediction.\n",
        "    \"\"\"\n",
        "    # Generate prediction\n",
        "    prediction = model.predict(X)  # Ensure X.shape = (1, 128)\n",
        "\n",
        "    # Check if model supports predict_proba (for probabilistic models)\n",
        "    if hasattr(model, \"predict_proba\"):\n",
        "        prediction_proba = model.predict_proba(X)[:, 1]  # Extract probability of class 1 (Bonafide)\n",
        "    else:\n",
        "        prediction_proba = prediction  # Direct output (e.g., Neural Network sigmoid output)\n",
        "    #print(\"Prediction Probability:\",prediction_proba)\n",
        "\n",
        "    # Convert probability output to a single float\n",
        "    confidence_score = prediction_proba[0].item()\n",
        "\n",
        "    # Convert to binary classification\n",
        "    binary_prediction = 1 if prediction_proba[0] >= 1 else 0\n",
        "    #print(\"Binary Prediction:\",binary_prediction)\n",
        "\n",
        "    # Convert numerical label to human-readable label\n",
        "    predicted_label = \"Spoofed\" if binary_prediction == 0 else \"Bonafide\"\n",
        "\n",
        "    # Print results\n",
        "    #print(f\"\\n🔹 **Single Prediction Result:**\")\n",
        "    #print(f\"Prediction: {predicted_label} (Confidence: {confidence_score:.4f})\")\n",
        "\n",
        "    return predicted_label, confidence_score"
      ]
    },
    {
      "cell_type": "code",
      "execution_count": 8,
      "id": "1ba28e9b-153c-4232-925b-1746c8059849",
      "metadata": {
        "colab": {
          "base_uri": "https://localhost:8080/",
          "height": 111
        },
        "id": "1ba28e9b-153c-4232-925b-1746c8059849",
        "outputId": "24cc3f15-a29f-4db7-ff64-676cfb5abb55"
      },
      "outputs": [
        {
          "output_type": "stream",
          "name": "stdout",
          "text": [
            "\u001b[1m1/1\u001b[0m \u001b[32m━━━━━━━━━━━━━━━━━━━━\u001b[0m\u001b[37m\u001b[0m \u001b[1m0s\u001b[0m 99ms/step\n",
            "File saved: /content/drive/MyDrive/output.mp3\n"
          ]
        },
        {
          "output_type": "execute_result",
          "data": {
            "text/plain": [
              "<IPython.lib.display.Audio object>"
            ],
            "text/html": [
              "\n",
              "                <audio  controls=\"controls\" autoplay=\"autoplay\">\n",
              "                    <source src=\"data:audio/mpeg;base64,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\" type=\"audio/mpeg\" />\n",
              "                    Your browser does not support the audio element.\n",
              "                </audio>\n",
              "              "
            ]
          },
          "metadata": {},
          "execution_count": 8
        }
      ],
      "source": [
        "#audio_features = \"./REAL AUDIO/lijo_Zebra.wav\"\n",
        "#audio_features = \"./AVSSpoof/LA/LA/ASVspoof2019_LA_eval/flac/LA_E_8844552.flac\"\n",
        "audio_features = '/content/drive/MyDrive/wav_files/03-01-01-01-01-01-01.wav'\n",
        "\n",
        "\n",
        "X_train = audio_mfcc(audio_features)\n",
        "X = X_train.reshape(1,-1)\n",
        "#print(X.shape)\n",
        "\n",
        "# Example usage\n",
        "predicted_label, confidence_score = predict_audio_label(model, X)\n",
        "\n",
        "# You can now reference confidence_score separately\n",
        "#print(\"Your Voice is Considered:\", predicted_label)\n",
        "gtts(predicted_label)"
      ]
    },
    {
      "cell_type": "code",
      "execution_count": 8,
      "id": "b8a1e836-741f-4b03-8fd5-0ac41f58b0ad",
      "metadata": {
        "id": "b8a1e836-741f-4b03-8fd5-0ac41f58b0ad"
      },
      "outputs": [],
      "source": []
    }
  ],
  "metadata": {
    "kernelspec": {
      "display_name": "Python 3 (ipykernel)",
      "language": "python",
      "name": "python3"
    },
    "language_info": {
      "codemirror_mode": {
        "name": "ipython",
        "version": 3
      },
      "file_extension": ".py",
      "mimetype": "text/x-python",
      "name": "python",
      "nbconvert_exporter": "python",
      "pygments_lexer": "ipython3",
      "version": "3.10.16"
    },
    "colab": {
      "provenance": []
    }
  },
  "nbformat": 4,
  "nbformat_minor": 5
}